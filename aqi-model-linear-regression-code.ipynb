{
 "cells": [
  {
   "cell_type": "code",
   "execution_count": 1,
   "id": "9f2d728d",
   "metadata": {
    "_cell_guid": "b1076dfc-b9ad-4769-8c92-a6c4dae69d19",
    "_uuid": "8f2839f25d086af736a60e9eeb907d3b93b6e0e5",
    "execution": {
     "iopub.execute_input": "2022-11-01T15:32:28.761784Z",
     "iopub.status.busy": "2022-11-01T15:32:28.761242Z",
     "iopub.status.idle": "2022-11-01T15:32:29.960361Z",
     "shell.execute_reply": "2022-11-01T15:32:29.959119Z"
    },
    "papermill": {
     "duration": 1.2112,
     "end_time": "2022-11-01T15:32:29.963294",
     "exception": false,
     "start_time": "2022-11-01T15:32:28.752094",
     "status": "completed"
    },
    "tags": []
   },
   "outputs": [],
   "source": [
    "import pandas as pd\n",
    "import numpy as np\n",
    "import matplotlib.pyplot as plt\n",
    "import seaborn as sns"
   ]
  },
  {
   "cell_type": "code",
   "execution_count": 2,
   "id": "d77d3b2a",
   "metadata": {
    "execution": {
     "iopub.execute_input": "2022-11-01T15:32:29.976768Z",
     "iopub.status.busy": "2022-11-01T15:32:29.976326Z",
     "iopub.status.idle": "2022-11-01T15:32:30.552710Z",
     "shell.execute_reply": "2022-11-01T15:32:30.551433Z"
    },
    "papermill": {
     "duration": 0.587346,
     "end_time": "2022-11-01T15:32:30.556523",
     "exception": false,
     "start_time": "2022-11-01T15:32:29.969177",
     "status": "completed"
    },
    "tags": []
   },
   "outputs": [
    {
     "data": {
      "text/html": [
       "<div>\n",
       "<style scoped>\n",
       "    .dataframe tbody tr th:only-of-type {\n",
       "        vertical-align: middle;\n",
       "    }\n",
       "\n",
       "    .dataframe tbody tr th {\n",
       "        vertical-align: top;\n",
       "    }\n",
       "\n",
       "    .dataframe thead th {\n",
       "        text-align: right;\n",
       "    }\n",
       "</style>\n",
       "<table border=\"1\" class=\"dataframe\">\n",
       "  <thead>\n",
       "    <tr style=\"text-align: right;\">\n",
       "      <th></th>\n",
       "      <th>No</th>\n",
       "      <th>pm2.5</th>\n",
       "      <th>DEWP</th>\n",
       "      <th>TEMP</th>\n",
       "      <th>PRES</th>\n",
       "      <th>cbwd</th>\n",
       "      <th>Iws</th>\n",
       "      <th>Is</th>\n",
       "      <th>Ir</th>\n",
       "    </tr>\n",
       "    <tr>\n",
       "      <th>year_month_day_hour</th>\n",
       "      <th></th>\n",
       "      <th></th>\n",
       "      <th></th>\n",
       "      <th></th>\n",
       "      <th></th>\n",
       "      <th></th>\n",
       "      <th></th>\n",
       "      <th></th>\n",
       "      <th></th>\n",
       "    </tr>\n",
       "  </thead>\n",
       "  <tbody>\n",
       "    <tr>\n",
       "      <th>2010-01-01 00:00:00</th>\n",
       "      <td>1</td>\n",
       "      <td>NaN</td>\n",
       "      <td>-21</td>\n",
       "      <td>-11.0</td>\n",
       "      <td>1021.0</td>\n",
       "      <td>NW</td>\n",
       "      <td>1.79</td>\n",
       "      <td>0</td>\n",
       "      <td>0</td>\n",
       "    </tr>\n",
       "    <tr>\n",
       "      <th>2010-01-01 01:00:00</th>\n",
       "      <td>2</td>\n",
       "      <td>NaN</td>\n",
       "      <td>-21</td>\n",
       "      <td>-12.0</td>\n",
       "      <td>1020.0</td>\n",
       "      <td>NW</td>\n",
       "      <td>4.92</td>\n",
       "      <td>0</td>\n",
       "      <td>0</td>\n",
       "    </tr>\n",
       "    <tr>\n",
       "      <th>2010-01-01 02:00:00</th>\n",
       "      <td>3</td>\n",
       "      <td>NaN</td>\n",
       "      <td>-21</td>\n",
       "      <td>-11.0</td>\n",
       "      <td>1019.0</td>\n",
       "      <td>NW</td>\n",
       "      <td>6.71</td>\n",
       "      <td>0</td>\n",
       "      <td>0</td>\n",
       "    </tr>\n",
       "    <tr>\n",
       "      <th>2010-01-01 03:00:00</th>\n",
       "      <td>4</td>\n",
       "      <td>NaN</td>\n",
       "      <td>-21</td>\n",
       "      <td>-14.0</td>\n",
       "      <td>1019.0</td>\n",
       "      <td>NW</td>\n",
       "      <td>9.84</td>\n",
       "      <td>0</td>\n",
       "      <td>0</td>\n",
       "    </tr>\n",
       "    <tr>\n",
       "      <th>2010-01-01 04:00:00</th>\n",
       "      <td>5</td>\n",
       "      <td>NaN</td>\n",
       "      <td>-20</td>\n",
       "      <td>-12.0</td>\n",
       "      <td>1018.0</td>\n",
       "      <td>NW</td>\n",
       "      <td>12.97</td>\n",
       "      <td>0</td>\n",
       "      <td>0</td>\n",
       "    </tr>\n",
       "  </tbody>\n",
       "</table>\n",
       "</div>"
      ],
      "text/plain": [
       "                     No  pm2.5  DEWP  TEMP    PRES cbwd    Iws  Is  Ir\n",
       "year_month_day_hour                                                   \n",
       "2010-01-01 00:00:00   1    NaN   -21 -11.0  1021.0   NW   1.79   0   0\n",
       "2010-01-01 01:00:00   2    NaN   -21 -12.0  1020.0   NW   4.92   0   0\n",
       "2010-01-01 02:00:00   3    NaN   -21 -11.0  1019.0   NW   6.71   0   0\n",
       "2010-01-01 03:00:00   4    NaN   -21 -14.0  1019.0   NW   9.84   0   0\n",
       "2010-01-01 04:00:00   5    NaN   -20 -12.0  1018.0   NW  12.97   0   0"
      ]
     },
     "execution_count": 2,
     "metadata": {},
     "output_type": "execute_result"
    }
   ],
   "source": [
    "#combined_data = pd.read_csv('../input/cleaned-data/cleaned_data.csv')\n",
    "\n",
    "from datetime import datetime\n",
    "\n",
    "def parse(x):\n",
    "    return datetime.strptime(x, '%Y %m %d %H')\n",
    "                          \n",
    "org_col_names=[\"No\", \"year\",\"month\", \"day\", \"hour\", \"pm2.5\", \"DEWP\",\"TEMP\", \"PRES\", \"cbwd\", \"Iws\", \"Is\", \"Ir\"]\n",
    "#col_names = ['pollution', 'dew', 'temp', 'pressure', 'w_dir', 'w_speed', 'snow', 'rain']   \n",
    "col_names = ['pollution', 'dew', 'temp', 'pressure', 'w_speed', 'snow', 'rain'] \n",
    "                            \n",
    "dataset = pd.read_csv('../input/airpollution-lr/AirPollution.csv',index_col=0, date_parser=parse,parse_dates=[['year', 'month', 'day', 'hour']])     \n",
    "#https://github.com/jyoti0225/Air-Pollution-Forecasting/blob/master/AirPollutionMultivariate.ipynb\n",
    "dataset.head()"
   ]
  },
  {
   "cell_type": "code",
   "execution_count": 3,
   "id": "58e16d45",
   "metadata": {
    "execution": {
     "iopub.execute_input": "2022-11-01T15:32:30.571262Z",
     "iopub.status.busy": "2022-11-01T15:32:30.570769Z",
     "iopub.status.idle": "2022-11-01T15:32:30.594393Z",
     "shell.execute_reply": "2022-11-01T15:32:30.593364Z"
    },
    "papermill": {
     "duration": 0.033558,
     "end_time": "2022-11-01T15:32:30.596948",
     "exception": false,
     "start_time": "2022-11-01T15:32:30.563390",
     "status": "completed"
    },
    "tags": []
   },
   "outputs": [],
   "source": [
    "# Data cleaning\n",
    "dataset.drop('No', axis=1, inplace=True)\n",
    "dataset.drop('cbwd', axis=1, inplace=True)\n",
    "#dataset.drop('year_month_day_hour', axis=0, inplace=True)\n",
    "dataset.columns = col_names\n",
    "dataset['pollution'].fillna(0, inplace=True)\n",
    "\n",
    "dataset = dataset[24:] # drop the first day\n",
    "dataset.head()\n",
    "combined_data=dataset\n",
    "#đổi cột\n",
    "combined_data = combined_data.reindex([ 'dew', 'temp', 'pressure', 'w_speed', 'snow', 'rain','pollution'], axis=1)\n",
    " \n",
    "#dataset.to_csv('pollution.csv') # save new CSV"
   ]
  },
  {
   "cell_type": "code",
   "execution_count": 4,
   "id": "d6cf5f6a",
   "metadata": {
    "execution": {
     "iopub.execute_input": "2022-11-01T15:32:30.611301Z",
     "iopub.status.busy": "2022-11-01T15:32:30.610694Z",
     "iopub.status.idle": "2022-11-01T15:32:30.625453Z",
     "shell.execute_reply": "2022-11-01T15:32:30.624227Z"
    },
    "papermill": {
     "duration": 0.025043,
     "end_time": "2022-11-01T15:32:30.628202",
     "exception": false,
     "start_time": "2022-11-01T15:32:30.603159",
     "status": "completed"
    },
    "tags": []
   },
   "outputs": [
    {
     "data": {
      "text/html": [
       "<div>\n",
       "<style scoped>\n",
       "    .dataframe tbody tr th:only-of-type {\n",
       "        vertical-align: middle;\n",
       "    }\n",
       "\n",
       "    .dataframe tbody tr th {\n",
       "        vertical-align: top;\n",
       "    }\n",
       "\n",
       "    .dataframe thead th {\n",
       "        text-align: right;\n",
       "    }\n",
       "</style>\n",
       "<table border=\"1\" class=\"dataframe\">\n",
       "  <thead>\n",
       "    <tr style=\"text-align: right;\">\n",
       "      <th></th>\n",
       "      <th>dew</th>\n",
       "      <th>temp</th>\n",
       "      <th>pressure</th>\n",
       "      <th>w_speed</th>\n",
       "      <th>snow</th>\n",
       "      <th>rain</th>\n",
       "      <th>pollution</th>\n",
       "    </tr>\n",
       "    <tr>\n",
       "      <th>year_month_day_hour</th>\n",
       "      <th></th>\n",
       "      <th></th>\n",
       "      <th></th>\n",
       "      <th></th>\n",
       "      <th></th>\n",
       "      <th></th>\n",
       "      <th></th>\n",
       "    </tr>\n",
       "  </thead>\n",
       "  <tbody>\n",
       "    <tr>\n",
       "      <th>2010-01-02 00:00:00</th>\n",
       "      <td>-16</td>\n",
       "      <td>-4.0</td>\n",
       "      <td>1020.0</td>\n",
       "      <td>1.79</td>\n",
       "      <td>0</td>\n",
       "      <td>0</td>\n",
       "      <td>129.0</td>\n",
       "    </tr>\n",
       "    <tr>\n",
       "      <th>2010-01-02 01:00:00</th>\n",
       "      <td>-15</td>\n",
       "      <td>-4.0</td>\n",
       "      <td>1020.0</td>\n",
       "      <td>2.68</td>\n",
       "      <td>0</td>\n",
       "      <td>0</td>\n",
       "      <td>148.0</td>\n",
       "    </tr>\n",
       "    <tr>\n",
       "      <th>2010-01-02 02:00:00</th>\n",
       "      <td>-11</td>\n",
       "      <td>-5.0</td>\n",
       "      <td>1021.0</td>\n",
       "      <td>3.57</td>\n",
       "      <td>0</td>\n",
       "      <td>0</td>\n",
       "      <td>159.0</td>\n",
       "    </tr>\n",
       "    <tr>\n",
       "      <th>2010-01-02 03:00:00</th>\n",
       "      <td>-7</td>\n",
       "      <td>-5.0</td>\n",
       "      <td>1022.0</td>\n",
       "      <td>5.36</td>\n",
       "      <td>1</td>\n",
       "      <td>0</td>\n",
       "      <td>181.0</td>\n",
       "    </tr>\n",
       "    <tr>\n",
       "      <th>2010-01-02 04:00:00</th>\n",
       "      <td>-7</td>\n",
       "      <td>-5.0</td>\n",
       "      <td>1022.0</td>\n",
       "      <td>6.25</td>\n",
       "      <td>2</td>\n",
       "      <td>0</td>\n",
       "      <td>138.0</td>\n",
       "    </tr>\n",
       "  </tbody>\n",
       "</table>\n",
       "</div>"
      ],
      "text/plain": [
       "                     dew  temp  pressure  w_speed  snow  rain  pollution\n",
       "year_month_day_hour                                                     \n",
       "2010-01-02 00:00:00  -16  -4.0    1020.0     1.79     0     0      129.0\n",
       "2010-01-02 01:00:00  -15  -4.0    1020.0     2.68     0     0      148.0\n",
       "2010-01-02 02:00:00  -11  -5.0    1021.0     3.57     0     0      159.0\n",
       "2010-01-02 03:00:00   -7  -5.0    1022.0     5.36     1     0      181.0\n",
       "2010-01-02 04:00:00   -7  -5.0    1022.0     6.25     2     0      138.0"
      ]
     },
     "execution_count": 4,
     "metadata": {},
     "output_type": "execute_result"
    }
   ],
   "source": [
    "combined_data.head()\n"
   ]
  },
  {
   "cell_type": "code",
   "execution_count": 5,
   "id": "c8ed72b6",
   "metadata": {
    "execution": {
     "iopub.execute_input": "2022-11-01T15:32:30.643727Z",
     "iopub.status.busy": "2022-11-01T15:32:30.642972Z",
     "iopub.status.idle": "2022-11-01T15:32:30.648823Z",
     "shell.execute_reply": "2022-11-01T15:32:30.647979Z"
    },
    "papermill": {
     "duration": 0.016175,
     "end_time": "2022-11-01T15:32:30.651115",
     "exception": false,
     "start_time": "2022-11-01T15:32:30.634940",
     "status": "completed"
    },
    "tags": []
   },
   "outputs": [],
   "source": [
    "X = combined_data.iloc[:, :-1]\n",
    "y = combined_data.iloc[:, -1]\n"
   ]
  },
  {
   "cell_type": "code",
   "execution_count": 6,
   "id": "42f0fd79",
   "metadata": {
    "execution": {
     "iopub.execute_input": "2022-11-01T15:32:30.666034Z",
     "iopub.status.busy": "2022-11-01T15:32:30.665259Z",
     "iopub.status.idle": "2022-11-01T15:32:30.890835Z",
     "shell.execute_reply": "2022-11-01T15:32:30.889466Z"
    },
    "papermill": {
     "duration": 0.23721,
     "end_time": "2022-11-01T15:32:30.894805",
     "exception": false,
     "start_time": "2022-11-01T15:32:30.657595",
     "status": "completed"
    },
    "tags": []
   },
   "outputs": [],
   "source": [
    "from sklearn.model_selection import train_test_split\n",
    "X_train, X_test, y_train, y_test = train_test_split(X, y, test_size=0.3, random_state=43)"
   ]
  },
  {
   "cell_type": "code",
   "execution_count": 7,
   "id": "46f13e7f",
   "metadata": {
    "execution": {
     "iopub.execute_input": "2022-11-01T15:32:30.913927Z",
     "iopub.status.busy": "2022-11-01T15:32:30.913185Z",
     "iopub.status.idle": "2022-11-01T15:32:31.027758Z",
     "shell.execute_reply": "2022-11-01T15:32:31.026554Z"
    },
    "papermill": {
     "duration": 0.127377,
     "end_time": "2022-11-01T15:32:31.030810",
     "exception": false,
     "start_time": "2022-11-01T15:32:30.903433",
     "status": "completed"
    },
    "tags": []
   },
   "outputs": [
    {
     "data": {
      "text/plain": [
       "LinearRegression()"
      ]
     },
     "execution_count": 7,
     "metadata": {},
     "output_type": "execute_result"
    }
   ],
   "source": [
    "from sklearn.linear_model import LinearRegression\n",
    "lin_reg = LinearRegression()\n",
    "lin_reg.fit(X_train, y_train)\n"
   ]
  },
  {
   "cell_type": "code",
   "execution_count": 8,
   "id": "59915eed",
   "metadata": {
    "execution": {
     "iopub.execute_input": "2022-11-01T15:32:31.046972Z",
     "iopub.status.busy": "2022-11-01T15:32:31.046522Z",
     "iopub.status.idle": "2022-11-01T15:32:31.066421Z",
     "shell.execute_reply": "2022-11-01T15:32:31.064764Z"
    },
    "papermill": {
     "duration": 0.034546,
     "end_time": "2022-11-01T15:32:31.071680",
     "exception": false,
     "start_time": "2022-11-01T15:32:31.037134",
     "status": "completed"
    },
    "tags": []
   },
   "outputs": [
    {
     "data": {
      "text/plain": [
       "'Coefficient of determination R^2 on train set 0.21360417694853562'"
      ]
     },
     "execution_count": 8,
     "metadata": {},
     "output_type": "execute_result"
    }
   ],
   "source": [
    "f'Coefficient of determination R^2 on train set {lin_reg.score(X_train, y_train)}'"
   ]
  },
  {
   "cell_type": "code",
   "execution_count": 9,
   "id": "52997c81",
   "metadata": {
    "execution": {
     "iopub.execute_input": "2022-11-01T15:32:31.107129Z",
     "iopub.status.busy": "2022-11-01T15:32:31.106263Z",
     "iopub.status.idle": "2022-11-01T15:32:31.129183Z",
     "shell.execute_reply": "2022-11-01T15:32:31.127579Z"
    },
    "papermill": {
     "duration": 0.045825,
     "end_time": "2022-11-01T15:32:31.134330",
     "exception": false,
     "start_time": "2022-11-01T15:32:31.088505",
     "status": "completed"
    },
    "tags": []
   },
   "outputs": [
    {
     "data": {
      "text/plain": [
       "'Coefficient of determination R^2 on test set 0.21592709613790373'"
      ]
     },
     "execution_count": 9,
     "metadata": {},
     "output_type": "execute_result"
    }
   ],
   "source": [
    "f'Coefficient of determination R^2 on test set {lin_reg.score(X_test, y_test)}'"
   ]
  },
  {
   "cell_type": "code",
   "execution_count": 10,
   "id": "44390694",
   "metadata": {
    "execution": {
     "iopub.execute_input": "2022-11-01T15:32:31.168907Z",
     "iopub.status.busy": "2022-11-01T15:32:31.168192Z",
     "iopub.status.idle": "2022-11-01T15:32:31.186839Z",
     "shell.execute_reply": "2022-11-01T15:32:31.184900Z"
    },
    "papermill": {
     "duration": 0.042033,
     "end_time": "2022-11-01T15:32:31.192357",
     "exception": false,
     "start_time": "2022-11-01T15:32:31.150324",
     "status": "completed"
    },
    "tags": []
   },
   "outputs": [
    {
     "data": {
      "text/plain": [
       "array([ 4.02452229, -5.85793505, -1.61620795, -0.24705223, -1.84414716,\n",
       "       -6.82703051])"
      ]
     },
     "execution_count": 10,
     "metadata": {},
     "output_type": "execute_result"
    }
   ],
   "source": [
    "lin_reg.coef_"
   ]
  },
  {
   "cell_type": "code",
   "execution_count": 11,
   "id": "7d577f08",
   "metadata": {
    "execution": {
     "iopub.execute_input": "2022-11-01T15:32:31.227854Z",
     "iopub.status.busy": "2022-11-01T15:32:31.227148Z",
     "iopub.status.idle": "2022-11-01T15:32:31.242075Z",
     "shell.execute_reply": "2022-11-01T15:32:31.240679Z"
    },
    "papermill": {
     "duration": 0.035364,
     "end_time": "2022-11-01T15:32:31.244468",
     "exception": false,
     "start_time": "2022-11-01T15:32:31.209104",
     "status": "completed"
    },
    "tags": []
   },
   "outputs": [
    {
     "data": {
      "text/plain": [
       "1809.9655888852014"
      ]
     },
     "execution_count": 11,
     "metadata": {},
     "output_type": "execute_result"
    }
   ],
   "source": [
    "lin_reg.intercept_"
   ]
  },
  {
   "cell_type": "code",
   "execution_count": 12,
   "id": "444e6704",
   "metadata": {
    "execution": {
     "iopub.execute_input": "2022-11-01T15:32:31.260001Z",
     "iopub.status.busy": "2022-11-01T15:32:31.259204Z",
     "iopub.status.idle": "2022-11-01T15:32:31.330959Z",
     "shell.execute_reply": "2022-11-01T15:32:31.329186Z"
    },
    "papermill": {
     "duration": 0.084436,
     "end_time": "2022-11-01T15:32:31.335559",
     "exception": false,
     "start_time": "2022-11-01T15:32:31.251123",
     "status": "completed"
    },
    "tags": []
   },
   "outputs": [],
   "source": [
    "from sklearn.model_selection import cross_val_score\n",
    "score = cross_val_score(lin_reg, X, y, cv = 3)"
   ]
  },
  {
   "cell_type": "code",
   "execution_count": 13,
   "id": "220eebf1",
   "metadata": {
    "execution": {
     "iopub.execute_input": "2022-11-01T15:32:31.372972Z",
     "iopub.status.busy": "2022-11-01T15:32:31.372192Z",
     "iopub.status.idle": "2022-11-01T15:32:31.382716Z",
     "shell.execute_reply": "2022-11-01T15:32:31.381473Z"
    },
    "papermill": {
     "duration": 0.03363,
     "end_time": "2022-11-01T15:32:31.386490",
     "exception": false,
     "start_time": "2022-11-01T15:32:31.352860",
     "status": "completed"
    },
    "tags": []
   },
   "outputs": [
    {
     "data": {
      "text/plain": [
       "0.18754055184544005"
      ]
     },
     "execution_count": 13,
     "metadata": {},
     "output_type": "execute_result"
    }
   ],
   "source": [
    "score.mean()"
   ]
  },
  {
   "cell_type": "code",
   "execution_count": 14,
   "id": "af86cc01",
   "metadata": {
    "execution": {
     "iopub.execute_input": "2022-11-01T15:32:31.424259Z",
     "iopub.status.busy": "2022-11-01T15:32:31.423492Z",
     "iopub.status.idle": "2022-11-01T15:32:31.441866Z",
     "shell.execute_reply": "2022-11-01T15:32:31.440435Z"
    },
    "papermill": {
     "duration": 0.041888,
     "end_time": "2022-11-01T15:32:31.446036",
     "exception": false,
     "start_time": "2022-11-01T15:32:31.404148",
     "status": "completed"
    },
    "tags": []
   },
   "outputs": [
    {
     "data": {
      "text/html": [
       "<div>\n",
       "<style scoped>\n",
       "    .dataframe tbody tr th:only-of-type {\n",
       "        vertical-align: middle;\n",
       "    }\n",
       "\n",
       "    .dataframe tbody tr th {\n",
       "        vertical-align: top;\n",
       "    }\n",
       "\n",
       "    .dataframe thead th {\n",
       "        text-align: right;\n",
       "    }\n",
       "</style>\n",
       "<table border=\"1\" class=\"dataframe\">\n",
       "  <thead>\n",
       "    <tr style=\"text-align: right;\">\n",
       "      <th></th>\n",
       "      <th>Coeff</th>\n",
       "    </tr>\n",
       "  </thead>\n",
       "  <tbody>\n",
       "    <tr>\n",
       "      <th>dew</th>\n",
       "      <td>4.024522</td>\n",
       "    </tr>\n",
       "    <tr>\n",
       "      <th>temp</th>\n",
       "      <td>-5.857935</td>\n",
       "    </tr>\n",
       "    <tr>\n",
       "      <th>pressure</th>\n",
       "      <td>-1.616208</td>\n",
       "    </tr>\n",
       "    <tr>\n",
       "      <th>w_speed</th>\n",
       "      <td>-0.247052</td>\n",
       "    </tr>\n",
       "    <tr>\n",
       "      <th>snow</th>\n",
       "      <td>-1.844147</td>\n",
       "    </tr>\n",
       "    <tr>\n",
       "      <th>rain</th>\n",
       "      <td>-6.827031</td>\n",
       "    </tr>\n",
       "  </tbody>\n",
       "</table>\n",
       "</div>"
      ],
      "text/plain": [
       "             Coeff\n",
       "dew       4.024522\n",
       "temp     -5.857935\n",
       "pressure -1.616208\n",
       "w_speed  -0.247052\n",
       "snow     -1.844147\n",
       "rain     -6.827031"
      ]
     },
     "execution_count": 14,
     "metadata": {},
     "output_type": "execute_result"
    }
   ],
   "source": [
    "pd.DataFrame(lin_reg.coef_, X.columns, columns=['Coeff'])"
   ]
  },
  {
   "cell_type": "code",
   "execution_count": 15,
   "id": "074c0cc0",
   "metadata": {
    "execution": {
     "iopub.execute_input": "2022-11-01T15:32:31.462869Z",
     "iopub.status.busy": "2022-11-01T15:32:31.462100Z",
     "iopub.status.idle": "2022-11-01T15:32:31.470304Z",
     "shell.execute_reply": "2022-11-01T15:32:31.468496Z"
    },
    "papermill": {
     "duration": 0.019201,
     "end_time": "2022-11-01T15:32:31.472762",
     "exception": false,
     "start_time": "2022-11-01T15:32:31.453561",
     "status": "completed"
    },
    "tags": []
   },
   "outputs": [
    {
     "name": "stdout",
     "output_type": "stream",
     "text": [
      "Holding all other features fixed a 1 unit increase in dew is associated with increase of val in AQI PM2.5\n",
      "Holding all other features fixed a 1 unit increase in temp is associated with decrease of val in AQI PM2.5\n",
      "Holding all other features fixed a 1 unit increase in pressure is associated with decrease of val in AQI PM2.5\n",
      "Holding all other features fixed a 1 unit increase in w_speed is associated with decrease of val in AQI PM2.5\n",
      "Holding all other features fixed a 1 unit increase in snow is associated with decrease of val in AQI PM2.5\n",
      "Holding all other features fixed a 1 unit increase in rain is associated with decrease of val in AQI PM2.5\n"
     ]
    }
   ],
   "source": [
    "c = 0\n",
    "for val in lin_reg.coef_:\n",
    "    effect = 'increase' if val>0 else 'decrease'\n",
    "    print(f'Holding all other features fixed a 1 unit increase in {X.columns[c]} is associated with {effect} of val in AQI PM2.5')\n",
    "    c = c+1"
   ]
  },
  {
   "cell_type": "code",
   "execution_count": 16,
   "id": "ab5631eb",
   "metadata": {
    "execution": {
     "iopub.execute_input": "2022-11-01T15:32:31.488814Z",
     "iopub.status.busy": "2022-11-01T15:32:31.488398Z",
     "iopub.status.idle": "2022-11-01T15:32:31.497308Z",
     "shell.execute_reply": "2022-11-01T15:32:31.495317Z"
    },
    "papermill": {
     "duration": 0.023081,
     "end_time": "2022-11-01T15:32:31.503056",
     "exception": false,
     "start_time": "2022-11-01T15:32:31.479975",
     "status": "completed"
    },
    "tags": []
   },
   "outputs": [],
   "source": [
    "pred = lin_reg.predict(X_test)"
   ]
  },
  {
   "cell_type": "code",
   "execution_count": 17,
   "id": "6a91eed9",
   "metadata": {
    "execution": {
     "iopub.execute_input": "2022-11-01T15:32:31.540302Z",
     "iopub.status.busy": "2022-11-01T15:32:31.539575Z",
     "iopub.status.idle": "2022-11-01T15:32:32.037169Z",
     "shell.execute_reply": "2022-11-01T15:32:32.036211Z"
    },
    "papermill": {
     "duration": 0.519182,
     "end_time": "2022-11-01T15:32:32.039574",
     "exception": false,
     "start_time": "2022-11-01T15:32:31.520392",
     "status": "completed"
    },
    "tags": []
   },
   "outputs": [
    {
     "name": "stderr",
     "output_type": "stream",
     "text": [
      "/opt/conda/lib/python3.7/site-packages/seaborn/distributions.py:2619: FutureWarning: `distplot` is a deprecated function and will be removed in a future version. Please adapt your code to use either `displot` (a figure-level function with similar flexibility) or `histplot` (an axes-level function for histograms).\n",
      "  warnings.warn(msg, FutureWarning)\n"
     ]
    },
    {
     "data": {
      "text/plain": [
       "<AxesSubplot:xlabel='pollution', ylabel='Density'>"
      ]
     },
     "execution_count": 17,
     "metadata": {},
     "output_type": "execute_result"
    },
    {
     "data": {
      "image/png": "[encoded data removed]",
      "text/plain": [
       "<Figure size 432x288 with 1 Axes>"
      ]
     },
     "metadata": {
      "needs_background": "light"
     },
     "output_type": "display_data"
    }
   ],
   "source": [
    "sns.distplot(y_test - pred)\n",
    "#y_train"
   ]
  },
  {
   "cell_type": "code",
   "execution_count": 18,
   "id": "c45c08b5",
   "metadata": {
    "execution": {
     "iopub.execute_input": "2022-11-01T15:32:32.057476Z",
     "iopub.status.busy": "2022-11-01T15:32:32.056584Z",
     "iopub.status.idle": "2022-11-01T15:32:32.066500Z",
     "shell.execute_reply": "2022-11-01T15:32:32.065150Z"
    },
    "papermill": {
     "duration": 0.022459,
     "end_time": "2022-11-01T15:32:32.069816",
     "exception": false,
     "start_time": "2022-11-01T15:32:32.047357",
     "status": "completed"
    },
    "tags": []
   },
   "outputs": [
    {
     "name": "stdout",
     "output_type": "stream",
     "text": [
      "Mean Abs Error: 59.24228276061772\n",
      "Mean Sq Error: 6627.619661112832\n",
      "Root Mean Error: 81.41019384028533\n"
     ]
    }
   ],
   "source": [
    "from sklearn import metrics\n",
    "print(f\"Mean Abs Error: {metrics.mean_absolute_error(y_test, pred)}\")\n",
    "print(f\"Mean Sq Error: {metrics.mean_squared_error(y_test, pred)}\")\n",
    "print(f\"Root Mean Error: {np.sqrt(metrics.mean_squared_error(y_test, pred))}\")"
   ]
  },
  {
   "cell_type": "code",
   "execution_count": 19,
   "id": "aaa98e09",
   "metadata": {
    "execution": {
     "iopub.execute_input": "2022-11-01T15:32:32.087403Z",
     "iopub.status.busy": "2022-11-01T15:32:32.087001Z",
     "iopub.status.idle": "2022-11-01T15:32:32.094916Z",
     "shell.execute_reply": "2022-11-01T15:32:32.093416Z"
    },
    "papermill": {
     "duration": 0.019515,
     "end_time": "2022-11-01T15:32:32.097483",
     "exception": false,
     "start_time": "2022-11-01T15:32:32.077968",
     "status": "completed"
    },
    "tags": []
   },
   "outputs": [
    {
     "data": {
      "text/plain": [
       "array([135.24997982,  84.93196993, 135.66654685, ...,  74.94025387,\n",
       "        57.60515811,  88.96451226])"
      ]
     },
     "execution_count": 19,
     "metadata": {},
     "output_type": "execute_result"
    }
   ],
   "source": [
    "#import pickle\n",
    "#pickle.dump(lin_reg, open('linreg.pkl', 'wb'))\n",
    "pred"
   ]
  },
  {
   "cell_type": "code",
   "execution_count": 20,
   "id": "dba4b66c",
   "metadata": {
    "execution": {
     "iopub.execute_input": "2022-11-01T15:32:32.115541Z",
     "iopub.status.busy": "2022-11-01T15:32:32.114346Z",
     "iopub.status.idle": "2022-11-01T15:32:32.553420Z",
     "shell.execute_reply": "2022-11-01T15:32:32.552011Z"
    },
    "papermill": {
     "duration": 0.450829,
     "end_time": "2022-11-01T15:32:32.556026",
     "exception": false,
     "start_time": "2022-11-01T15:32:32.105197",
     "status": "completed"
    },
    "tags": []
   },
   "outputs": [
    {
     "data": {
      "image/png": "[encoded data removed]",
      "text/plain": [
       "<Figure size 720x432 with 1 Axes>"
      ]
     },
     "metadata": {
      "needs_background": "light"
     },
     "output_type": "display_data"
    },
    {
     "data": {
      "text/plain": [
       "<Figure size 432x288 with 0 Axes>"
      ]
     },
     "metadata": {},
     "output_type": "display_data"
    }
   ],
   "source": [
    "plt.figure(figsize=(10,6))  \n",
    "plt.plot(pred, color= 'green',label = 'Predicted Pollution level')\n",
    "plt.plot(y_test , color = 'red',label = 'Actual Pollution level')\n",
    "\n",
    "plt.title(\"Air Pollution Prediction (Multivariate)\")\n",
    "plt.xlabel(\"Date\")\n",
    "plt.ylabel(\"Pollution level\")\n",
    "plt.legend()\n",
    "plt.show()\n",
    "plt.savefig('graph.png')"
   ]
  },
  {
   "cell_type": "code",
   "execution_count": null,
   "id": "a722cfbb",
   "metadata": {
    "papermill": {
     "duration": 0.008235,
     "end_time": "2022-11-01T15:32:32.573030",
     "exception": false,
     "start_time": "2022-11-01T15:32:32.564795",
     "status": "completed"
    },
    "tags": []
   },
   "outputs": [],
   "source": []
  }
 ],
 "metadata": {
  "kernelspec": {
   "display_name": "Python 3",
   "language": "python",
   "name": "python3"
  },
  "language_info": {
   "codemirror_mode": {
    "name": "ipython",
    "version": 3
   },
   "file_extension": ".py",
   "mimetype": "text/x-python",
   "name": "python",
   "nbconvert_exporter": "python",
   "pygments_lexer": "ipython3",
   "version": "3.7.12"
  },
  "papermill": {
   "default_parameters": {},
   "duration": 15.655558,
   "end_time": "2022-11-01T15:32:33.408596",
   "environment_variables": {},
   "exception": null,
   "input_path": "__notebook__.ipynb",
   "output_path": "__notebook__.ipynb",
   "parameters": {},
   "start_time": "2022-11-01T15:32:17.753038",
   "version": "2.3.4"
  }
 },
 "nbformat": 4,
 "nbformat_minor": 5
}
